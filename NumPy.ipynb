{
 "cells": [
  {
   "cell_type": "markdown",
   "id": "be3937fb-e6f6-4c96-ad62-d6481abff698",
   "metadata": {},
   "source": [
    "**NumPy Array'i Oluşturmak**\n"
   ]
  },
  {
   "cell_type": "code",
   "execution_count": 125,
   "id": "5a06ec20-c593-4de8-9b05-a20a454858dd",
   "metadata": {},
   "outputs": [],
   "source": [
    "import numpy as np"
   ]
  },
  {
   "cell_type": "code",
   "execution_count": 2,
   "id": "4a8b29fb-24be-4365-bbaf-6a5dac5bb206",
   "metadata": {},
   "outputs": [
    {
     "data": {
      "text/plain": [
       "array([1, 2, 3, 4])"
      ]
     },
     "execution_count": 2,
     "metadata": {},
     "output_type": "execute_result"
    }
   ],
   "source": [
    "np.array([1,2,3,4])"
   ]
  },
  {
   "cell_type": "code",
   "execution_count": 4,
   "id": "d6dda46c-387d-4f93-8520-e7c12133fe78",
   "metadata": {},
   "outputs": [],
   "source": [
    "a=np.array([1,2,3,4])"
   ]
  },
  {
   "cell_type": "code",
   "execution_count": 5,
   "id": "f13859e1-b552-4554-a7e4-826f96b3199b",
   "metadata": {},
   "outputs": [
    {
     "data": {
      "text/plain": [
       "numpy.ndarray"
      ]
     },
     "execution_count": 5,
     "metadata": {},
     "output_type": "execute_result"
    }
   ],
   "source": [
    "type(a)"
   ]
  },
  {
   "cell_type": "code",
   "execution_count": 7,
   "id": "0dddd41c-70b9-4396-bb83-dd18d6cd6243",
   "metadata": {},
   "outputs": [
    {
     "data": {
      "text/plain": [
       "array([3.12, 5.  , 6.  , 7.  ], dtype=float32)"
      ]
     },
     "execution_count": 7,
     "metadata": {},
     "output_type": "execute_result"
    }
   ],
   "source": [
    "np.array([3.12,5,6,7] , dtype=\"float32\")"
   ]
  },
  {
   "cell_type": "code",
   "execution_count": 8,
   "id": "122a38b0-2a1b-4439-81e4-335098132d6e",
   "metadata": {},
   "outputs": [],
   "source": [
    "#sıfırdan array oluşturmak"
   ]
  },
  {
   "cell_type": "code",
   "execution_count": 9,
   "id": "eda530dd-0c79-4b92-9dd3-60c9c23a8a75",
   "metadata": {},
   "outputs": [
    {
     "data": {
      "text/plain": [
       "array([0, 0, 0, 0, 0, 0, 0, 0, 0, 0])"
      ]
     },
     "execution_count": 9,
     "metadata": {},
     "output_type": "execute_result"
    }
   ],
   "source": [
    "np.zeros(10, dtype=\"int\")"
   ]
  },
  {
   "cell_type": "code",
   "execution_count": 12,
   "id": "7191df76-6f0a-4e7d-b351-90d4e386ff3f",
   "metadata": {},
   "outputs": [
    {
     "data": {
      "text/plain": [
       "array([[1, 1, 1, 1, 1],\n",
       "       [1, 1, 1, 1, 1],\n",
       "       [1, 1, 1, 1, 1]])"
      ]
     },
     "execution_count": 12,
     "metadata": {},
     "output_type": "execute_result"
    }
   ],
   "source": [
    "np.ones((3,5), dtype=\"int\")"
   ]
  },
  {
   "cell_type": "code",
   "execution_count": 13,
   "id": "6f66ba9f-bdb6-47e6-b96a-d0969d964cf1",
   "metadata": {},
   "outputs": [
    {
     "data": {
      "text/plain": [
       "array([[3, 3, 3, 3, 3],\n",
       "       [3, 3, 3, 3, 3],\n",
       "       [3, 3, 3, 3, 3]])"
      ]
     },
     "execution_count": 13,
     "metadata": {},
     "output_type": "execute_result"
    }
   ],
   "source": [
    "np.full((3,5), 3)"
   ]
  },
  {
   "cell_type": "code",
   "execution_count": 139,
   "id": "bc1d759a-d574-4a14-b651-35a5f1f86927",
   "metadata": {},
   "outputs": [
    {
     "data": {
      "text/plain": [
       "array([ 0,  3,  6,  9, 12, 15, 18, 21, 24, 27])"
      ]
     },
     "execution_count": 139,
     "metadata": {},
     "output_type": "execute_result"
    }
   ],
   "source": [
    "v= np.arange(0,30,3)\n",
    "v"
   ]
  },
  {
   "cell_type": "code",
   "execution_count": 140,
   "id": "4afcd5a9-8f41-422f-8b71-467369c6e51a",
   "metadata": {},
   "outputs": [
    {
     "data": {
      "text/plain": [
       "[27, 0]"
      ]
     },
     "execution_count": 140,
     "metadata": {},
     "output_type": "execute_result"
    }
   ],
   "source": [
    "[v[9], v[0]]"
   ]
  },
  {
   "cell_type": "code",
   "execution_count": 141,
   "id": "58496594-9035-4715-94b5-22d55b4a0619",
   "metadata": {},
   "outputs": [
    {
     "data": {
      "text/plain": [
       "[3, 9]"
      ]
     },
     "execution_count": 141,
     "metadata": {},
     "output_type": "execute_result"
    }
   ],
   "source": [
    "[v[1], v[3]]"
   ]
  },
  {
   "cell_type": "code",
   "execution_count": 14,
   "id": "26c49c4d-3827-4cf5-8c49-ed321d4ab6b1",
   "metadata": {},
   "outputs": [
    {
     "data": {
      "text/plain": [
       "array([ 0,  3,  6,  9, 12, 15, 18, 21, 24, 27, 30])"
      ]
     },
     "execution_count": 14,
     "metadata": {},
     "output_type": "execute_result"
    }
   ],
   "source": [
    "np.arange(0,31,3)"
   ]
  },
  {
   "cell_type": "code",
   "execution_count": 15,
   "id": "d5ccc21b-4778-472b-89ae-4e7e9bd63222",
   "metadata": {},
   "outputs": [
    {
     "data": {
      "text/plain": [
       "array([0.        , 0.11111111, 0.22222222, 0.33333333, 0.44444444,\n",
       "       0.55555556, 0.66666667, 0.77777778, 0.88888889, 1.        ])"
      ]
     },
     "execution_count": 15,
     "metadata": {},
     "output_type": "execute_result"
    }
   ],
   "source": [
    "np.linspace(0,1,10)"
   ]
  },
  {
   "cell_type": "code",
   "execution_count": 16,
   "id": "9bd6dafd-e6c7-40c1-b2b3-bbfa80107754",
   "metadata": {},
   "outputs": [
    {
     "data": {
      "text/plain": [
       "array([[14.28998207, 12.96013252, 15.49866839,  9.39796075],\n",
       "       [ 9.35440954,  6.20299522,  7.88498113,  8.19156843],\n",
       "       [11.13710317,  5.08001176,  6.39920214, 11.46284495]])"
      ]
     },
     "execution_count": 16,
     "metadata": {},
     "output_type": "execute_result"
    }
   ],
   "source": [
    "np.random.normal(10,4,(3,4))"
   ]
  },
  {
   "cell_type": "code",
   "execution_count": 17,
   "id": "0877f501-7c57-4872-9304-c0cad8297214",
   "metadata": {},
   "outputs": [
    {
     "data": {
      "text/plain": [
       "array([[0, 1, 0],\n",
       "       [0, 4, 3],\n",
       "       [2, 8, 0]])"
      ]
     },
     "execution_count": 17,
     "metadata": {},
     "output_type": "execute_result"
    }
   ],
   "source": [
    "np.random.randint(0,10,(3,3))"
   ]
  },
  {
   "cell_type": "markdown",
   "id": "c356d167-7d7a-44dc-a3bc-f3d17d9d4a60",
   "metadata": {},
   "source": [
    "**NumPy Array Özelikleri**\n"
   ]
  },
  {
   "cell_type": "markdown",
   "id": "c54ead1d-6cd8-4ccb-acc5-6fe3f0227723",
   "metadata": {},
   "source": [
    "* ndarray.ndim : Aksis (boyut) sayısını verir. Bu da “rank” olarak adlandırılır.\n",
    "* ndarray.shape : Dizi boyutunu verir. a X b matrisi (a,b) olarak döner.\n",
    "* ndarray.size : Dizideki eleman sayısını verir. Yani a*b işleminin sonucudur.\n",
    "* ndarray.dtype : Dizideki eleman türünü döndürür.\n"
   ]
  },
  {
   "cell_type": "code",
   "execution_count": 18,
   "id": "027840ca-8abd-4c9c-bd16-57da1c899c7c",
   "metadata": {},
   "outputs": [],
   "source": [
    "import numpy as np"
   ]
  },
  {
   "cell_type": "code",
   "execution_count": 132,
   "id": "711f9cbc-27a3-407d-814e-31ebb3e6541d",
   "metadata": {},
   "outputs": [
    {
     "data": {
      "text/plain": [
       "array([3.14, 4.  , 6.  , 1.2 ])"
      ]
     },
     "execution_count": 132,
     "metadata": {},
     "output_type": "execute_result"
    }
   ],
   "source": [
    "import numpy as np\n",
    "\n",
    "np.array([3.14, 4,6,1.2])"
   ]
  },
  {
   "cell_type": "code",
   "execution_count": 134,
   "id": "18ac16b4-4e6c-4d89-a123-0f9a8b1b3f2e",
   "metadata": {},
   "outputs": [
    {
     "data": {
      "text/plain": [
       "array([ 5, 10, 15])"
      ]
     },
     "execution_count": 134,
     "metadata": {},
     "output_type": "execute_result"
    }
   ],
   "source": [
    "5*np.array([1, 2,3])"
   ]
  },
  {
   "cell_type": "code",
   "execution_count": 131,
   "id": "37003666-7c7e-483c-ad97-e2f9ef12f6a7",
   "metadata": {},
   "outputs": [
    {
     "data": {
      "text/plain": [
       "array([1, 2, 3, 4, 5])"
      ]
     },
     "execution_count": 131,
     "metadata": {},
     "output_type": "execute_result"
    }
   ],
   "source": [
    "import numpy as np\n",
    "\n",
    "v = np.array([2, 1, 4, 3, 5])\n",
    "\n",
    "np.sort(v)"
   ]
  },
  {
   "cell_type": "code",
   "execution_count": 19,
   "id": "f9c0ca00-a1ea-4c59-b920-ad13471039f1",
   "metadata": {},
   "outputs": [
    {
     "data": {
      "text/plain": [
       "array([3, 5, 2, 6, 2, 7, 6, 7, 9, 9])"
      ]
     },
     "execution_count": 19,
     "metadata": {},
     "output_type": "execute_result"
    }
   ],
   "source": [
    "np.random.randint(10, size=10)"
   ]
  },
  {
   "cell_type": "code",
   "execution_count": 20,
   "id": "7f0b23b4-4970-42eb-b39e-7a16ea54053b",
   "metadata": {},
   "outputs": [],
   "source": [
    "a=np.random.randint(10, size=10)"
   ]
  },
  {
   "cell_type": "code",
   "execution_count": 21,
   "id": "689b5dd7-2ed1-4b7b-b071-934e5d047642",
   "metadata": {},
   "outputs": [
    {
     "data": {
      "text/plain": [
       "1"
      ]
     },
     "execution_count": 21,
     "metadata": {},
     "output_type": "execute_result"
    }
   ],
   "source": [
    "a.ndim"
   ]
  },
  {
   "cell_type": "code",
   "execution_count": 22,
   "id": "03d446d8-beac-437f-961e-241cdee876ce",
   "metadata": {},
   "outputs": [
    {
     "data": {
      "text/plain": [
       "(10,)"
      ]
     },
     "execution_count": 22,
     "metadata": {},
     "output_type": "execute_result"
    }
   ],
   "source": [
    "a.shape"
   ]
  },
  {
   "cell_type": "code",
   "execution_count": 23,
   "id": "2cc4eb53-c7c7-403f-b1ae-33d82d5b776a",
   "metadata": {},
   "outputs": [
    {
     "data": {
      "text/plain": [
       "10"
      ]
     },
     "execution_count": 23,
     "metadata": {},
     "output_type": "execute_result"
    }
   ],
   "source": [
    "a.size"
   ]
  },
  {
   "cell_type": "code",
   "execution_count": 24,
   "id": "151a25a7-8270-4c74-8ec4-84acf2342c7c",
   "metadata": {},
   "outputs": [
    {
     "data": {
      "text/plain": [
       "dtype('int32')"
      ]
     },
     "execution_count": 24,
     "metadata": {},
     "output_type": "execute_result"
    }
   ],
   "source": [
    "a.dtype"
   ]
  },
  {
   "cell_type": "markdown",
   "id": "949e045b-d84a-47e9-968e-b01b0a6bdb9d",
   "metadata": {},
   "source": [
    "**Yeniden Şekillendirme(Reshaping)**"
   ]
  },
  {
   "cell_type": "code",
   "execution_count": 25,
   "id": "098d9a49-b84b-4d21-bbd7-ec172ceb6f39",
   "metadata": {},
   "outputs": [],
   "source": [
    "import numpy as np"
   ]
  },
  {
   "cell_type": "code",
   "execution_count": 26,
   "id": "e1b77a4a-cd1b-43e4-990b-d7f3b09de7cf",
   "metadata": {},
   "outputs": [
    {
     "data": {
      "text/plain": [
       "array([1, 2, 3, 4, 5, 6, 7, 8, 9])"
      ]
     },
     "execution_count": 26,
     "metadata": {},
     "output_type": "execute_result"
    }
   ],
   "source": [
    "np.arange(1,10)"
   ]
  },
  {
   "cell_type": "code",
   "execution_count": 26,
   "id": "a6a0d1b2-5371-47e6-8f40-63e6cea01e97",
   "metadata": {},
   "outputs": [
    {
     "data": {
      "text/plain": [
       "array([1, 2, 3, 4, 5, 6, 7, 8, 9])"
      ]
     },
     "execution_count": 26,
     "metadata": {},
     "output_type": "execute_result"
    }
   ],
   "source": [
    "np.arange(1,10)"
   ]
  },
  {
   "cell_type": "code",
   "execution_count": 29,
   "id": "c4de2ad5-733b-4d2c-9004-229848a620c7",
   "metadata": {},
   "outputs": [],
   "source": [
    "a=np.arange(1,10)"
   ]
  },
  {
   "cell_type": "code",
   "execution_count": 30,
   "id": "19b291e1-530c-433e-ae79-0061834dd05e",
   "metadata": {},
   "outputs": [
    {
     "data": {
      "text/plain": [
       "array([1, 2, 3, 4, 5, 6, 7, 8, 9])"
      ]
     },
     "execution_count": 30,
     "metadata": {},
     "output_type": "execute_result"
    }
   ],
   "source": [
    "a"
   ]
  },
  {
   "cell_type": "code",
   "execution_count": 31,
   "id": "7803a328-0cdf-4361-9ba9-d375a12f1e09",
   "metadata": {},
   "outputs": [
    {
     "data": {
      "text/plain": [
       "1"
      ]
     },
     "execution_count": 31,
     "metadata": {},
     "output_type": "execute_result"
    }
   ],
   "source": [
    "a.ndim"
   ]
  },
  {
   "cell_type": "code",
   "execution_count": 32,
   "id": "7d64ad92-280e-41b8-a7db-f189eb5560cb",
   "metadata": {},
   "outputs": [],
   "source": [
    "b=a.reshape((1,9))"
   ]
  },
  {
   "cell_type": "code",
   "execution_count": 33,
   "id": "f1117440-cdc1-4021-b134-ff6c20bdf269",
   "metadata": {},
   "outputs": [
    {
     "data": {
      "text/plain": [
       "2"
      ]
     },
     "execution_count": 33,
     "metadata": {},
     "output_type": "execute_result"
    }
   ],
   "source": [
    "b.ndim"
   ]
  },
  {
   "cell_type": "markdown",
   "id": "21b3475d-ac31-4da4-9df8-a7ca305ee22e",
   "metadata": {},
   "source": [
    "**Array Birleştirme**"
   ]
  },
  {
   "cell_type": "code",
   "execution_count": 34,
   "id": "405da245-17ce-4b52-a094-649f5464d0ef",
   "metadata": {},
   "outputs": [],
   "source": [
    "import numpy as np"
   ]
  },
  {
   "cell_type": "code",
   "execution_count": 35,
   "id": "797ecc54-a726-40e5-b86c-b6175c44cd5d",
   "metadata": {},
   "outputs": [],
   "source": [
    "x=np.array([1,2,3])\n",
    "y=np.array([4,5,6])"
   ]
  },
  {
   "cell_type": "code",
   "execution_count": 36,
   "id": "681e32d2-0481-4c34-a5e6-27abd76e2119",
   "metadata": {},
   "outputs": [
    {
     "data": {
      "text/plain": [
       "array([1, 2, 3, 4, 5, 6])"
      ]
     },
     "execution_count": 36,
     "metadata": {},
     "output_type": "execute_result"
    }
   ],
   "source": [
    "np.concatenate([x,y])"
   ]
  },
  {
   "cell_type": "code",
   "execution_count": 37,
   "id": "66a06081-90e6-45ee-be37-3e8d6d93f52f",
   "metadata": {},
   "outputs": [],
   "source": [
    "z=np.array([7,8,9])"
   ]
  },
  {
   "cell_type": "code",
   "execution_count": 38,
   "id": "566c2e75-fb6a-4302-8d30-32cc679fe132",
   "metadata": {},
   "outputs": [
    {
     "data": {
      "text/plain": [
       "array([1, 2, 3, 4, 5, 6, 7, 8, 9])"
      ]
     },
     "execution_count": 38,
     "metadata": {},
     "output_type": "execute_result"
    }
   ],
   "source": [
    "np.concatenate([x,y,z])"
   ]
  },
  {
   "cell_type": "code",
   "execution_count": 39,
   "id": "e6274ceb-b3b3-477f-97a8-3c1c1a714fa6",
   "metadata": {},
   "outputs": [],
   "source": [
    "#iki boyutlu"
   ]
  },
  {
   "cell_type": "code",
   "execution_count": 40,
   "id": "c9002319-e7a8-47b6-a5c3-f1ed48c3d2da",
   "metadata": {},
   "outputs": [],
   "source": [
    "a=np.array([[1,2,3]\n",
    "            ,[4,5,6]])"
   ]
  },
  {
   "cell_type": "code",
   "execution_count": 41,
   "id": "c8d67f90-9f50-4f92-a839-f9ecff8bf276",
   "metadata": {},
   "outputs": [
    {
     "data": {
      "text/plain": [
       "array([[1, 2, 3],\n",
       "       [4, 5, 6],\n",
       "       [1, 2, 3],\n",
       "       [4, 5, 6]])"
      ]
     },
     "execution_count": 41,
     "metadata": {},
     "output_type": "execute_result"
    }
   ],
   "source": [
    "np.concatenate([a,a])"
   ]
  },
  {
   "cell_type": "code",
   "execution_count": 44,
   "id": "9bb7f637-d8f7-4b51-843d-261c972523e7",
   "metadata": {},
   "outputs": [
    {
     "data": {
      "text/plain": [
       "array([[1, 2, 3, 1, 2, 3],\n",
       "       [4, 5, 6, 4, 5, 6]])"
      ]
     },
     "execution_count": 44,
     "metadata": {},
     "output_type": "execute_result"
    }
   ],
   "source": [
    "np.concatenate([a,a], axis=1)"
   ]
  },
  {
   "cell_type": "markdown",
   "id": "aed07deb-34d8-4f64-ac25-73e9d8264042",
   "metadata": {},
   "source": [
    "**Array Ayırma**"
   ]
  },
  {
   "cell_type": "code",
   "execution_count": 45,
   "id": "544e94f6-554f-4ff9-9c3b-2be277613c86",
   "metadata": {},
   "outputs": [],
   "source": [
    "x=np.array([1,6,8,9,12,34,24,56])"
   ]
  },
  {
   "cell_type": "code",
   "execution_count": 46,
   "id": "591ed34d-467a-49f5-abfc-541419cd8cfe",
   "metadata": {},
   "outputs": [
    {
     "data": {
      "text/plain": [
       "[array([1, 6, 8]), array([ 9, 12]), array([34, 24, 56])]"
      ]
     },
     "execution_count": 46,
     "metadata": {},
     "output_type": "execute_result"
    }
   ],
   "source": [
    "np.split(x,[3,5])"
   ]
  },
  {
   "cell_type": "code",
   "execution_count": 48,
   "id": "0ed06289-2c90-42e8-a89d-a0e192c127a1",
   "metadata": {},
   "outputs": [],
   "source": [
    "a,b,c = np.split(x,[3,5])"
   ]
  },
  {
   "cell_type": "code",
   "execution_count": 49,
   "id": "f9da605f-0afb-4dd7-a21e-870e44a38894",
   "metadata": {},
   "outputs": [
    {
     "data": {
      "text/plain": [
       "array([1, 6, 8])"
      ]
     },
     "execution_count": 49,
     "metadata": {},
     "output_type": "execute_result"
    }
   ],
   "source": [
    "a"
   ]
  },
  {
   "cell_type": "code",
   "execution_count": 50,
   "id": "99203b93-87e5-4032-916b-f06044da8ca8",
   "metadata": {},
   "outputs": [
    {
     "data": {
      "text/plain": [
       "array([ 9, 12])"
      ]
     },
     "execution_count": 50,
     "metadata": {},
     "output_type": "execute_result"
    }
   ],
   "source": [
    "b"
   ]
  },
  {
   "cell_type": "code",
   "execution_count": 51,
   "id": "5b44f030-715f-4fbc-bffe-d1be2810424c",
   "metadata": {},
   "outputs": [
    {
     "data": {
      "text/plain": [
       "array([34, 24, 56])"
      ]
     },
     "execution_count": 51,
     "metadata": {},
     "output_type": "execute_result"
    }
   ],
   "source": [
    "c"
   ]
  },
  {
   "cell_type": "code",
   "execution_count": 52,
   "id": "50c1d2cd-9375-4aa4-9160-45099cd56fd8",
   "metadata": {},
   "outputs": [],
   "source": [
    "#iki boyutlu ayırma"
   ]
  },
  {
   "cell_type": "code",
   "execution_count": 55,
   "id": "6e21752e-1e29-42a8-ae39-2888df7f3079",
   "metadata": {},
   "outputs": [
    {
     "data": {
      "text/plain": [
       "array([[ 0,  1,  2,  3],\n",
       "       [ 4,  5,  6,  7],\n",
       "       [ 8,  9, 10, 11],\n",
       "       [12, 13, 14, 15]])"
      ]
     },
     "execution_count": 55,
     "metadata": {},
     "output_type": "execute_result"
    }
   ],
   "source": [
    "m=np.arange(16).reshape(4,4)\n",
    "m"
   ]
  },
  {
   "cell_type": "code",
   "execution_count": 56,
   "id": "7d337360-86de-444b-b623-a0fc452a7982",
   "metadata": {},
   "outputs": [
    {
     "data": {
      "text/plain": [
       "[array([[0, 1, 2, 3],\n",
       "        [4, 5, 6, 7]]),\n",
       " array([[ 8,  9, 10, 11],\n",
       "        [12, 13, 14, 15]])]"
      ]
     },
     "execution_count": 56,
     "metadata": {},
     "output_type": "execute_result"
    }
   ],
   "source": [
    "np.vsplit(m,[2])"
   ]
  },
  {
   "cell_type": "code",
   "execution_count": 57,
   "id": "6c66724c-20df-47f5-8128-891da0b72867",
   "metadata": {},
   "outputs": [],
   "source": [
    "üst,alt= np.vsplit(m,[2])"
   ]
  },
  {
   "cell_type": "code",
   "execution_count": 58,
   "id": "8c361a62-0322-4762-bdcf-ce32e1915200",
   "metadata": {},
   "outputs": [
    {
     "data": {
      "text/plain": [
       "array([[0, 1, 2, 3],\n",
       "       [4, 5, 6, 7]])"
      ]
     },
     "execution_count": 58,
     "metadata": {},
     "output_type": "execute_result"
    }
   ],
   "source": [
    "üst"
   ]
  },
  {
   "cell_type": "code",
   "execution_count": 59,
   "id": "4605c3a3-d831-435e-95cc-b5f0f760f364",
   "metadata": {},
   "outputs": [
    {
     "data": {
      "text/plain": [
       "array([[ 8,  9, 10, 11],\n",
       "       [12, 13, 14, 15]])"
      ]
     },
     "execution_count": 59,
     "metadata": {},
     "output_type": "execute_result"
    }
   ],
   "source": [
    "alt"
   ]
  },
  {
   "cell_type": "code",
   "execution_count": 61,
   "id": "12178614-2750-4eeb-9724-6c77b3ff5f2f",
   "metadata": {},
   "outputs": [
    {
     "data": {
      "text/plain": [
       "[array([[ 0,  1],\n",
       "        [ 4,  5],\n",
       "        [ 8,  9],\n",
       "        [12, 13]]),\n",
       " array([[ 2,  3],\n",
       "        [ 6,  7],\n",
       "        [10, 11],\n",
       "        [14, 15]])]"
      ]
     },
     "execution_count": 61,
     "metadata": {},
     "output_type": "execute_result"
    }
   ],
   "source": [
    "np.hsplit(m,[2])"
   ]
  },
  {
   "cell_type": "markdown",
   "id": "a5e02bce-f2a7-40cd-b06c-9cdb17cd7547",
   "metadata": {},
   "source": [
    "**Array Sıralama**"
   ]
  },
  {
   "cell_type": "code",
   "execution_count": 63,
   "id": "fdfbc521-d90a-45ef-8ff4-5cea6c9a28c8",
   "metadata": {},
   "outputs": [
    {
     "data": {
      "text/plain": [
       "array([2, 1, 4, 3, 5])"
      ]
     },
     "execution_count": 63,
     "metadata": {},
     "output_type": "execute_result"
    }
   ],
   "source": [
    "v=np.array([2,1,4,3,5])\n",
    "v"
   ]
  },
  {
   "cell_type": "code",
   "execution_count": 64,
   "id": "82c87910-744d-44fc-8704-e0967780a520",
   "metadata": {},
   "outputs": [
    {
     "data": {
      "text/plain": [
       "array([1, 2, 3, 4, 5])"
      ]
     },
     "execution_count": 64,
     "metadata": {},
     "output_type": "execute_result"
    }
   ],
   "source": [
    "np.sort(v)"
   ]
  },
  {
   "cell_type": "code",
   "execution_count": 66,
   "id": "5f433dd0-baa4-4e06-8639-006eb3afead4",
   "metadata": {},
   "outputs": [
    {
     "data": {
      "text/plain": [
       "array([1, 2, 3, 4, 5])"
      ]
     },
     "execution_count": 66,
     "metadata": {},
     "output_type": "execute_result"
    }
   ],
   "source": [
    "v.sort()\n",
    "v"
   ]
  },
  {
   "cell_type": "code",
   "execution_count": 67,
   "id": "231d2b14-be6d-4ca0-81dc-6dabf28e75ff",
   "metadata": {},
   "outputs": [],
   "source": [
    "#iki boyutlu"
   ]
  },
  {
   "cell_type": "code",
   "execution_count": 71,
   "id": "897a58ce-0218-4299-af11-621ef1cacd29",
   "metadata": {},
   "outputs": [
    {
     "data": {
      "text/plain": [
       "array([[15.07832421,  9.04667135, 19.46992503],\n",
       "       [23.02548285, 21.83227891, 24.71804394],\n",
       "       [28.01465465, 20.52580452, 22.69807962]])"
      ]
     },
     "execution_count": 71,
     "metadata": {},
     "output_type": "execute_result"
    }
   ],
   "source": [
    "m= np.random.normal(20,5, (3,3))\n",
    "m"
   ]
  },
  {
   "cell_type": "code",
   "execution_count": 73,
   "id": "8afc5840-f9e6-4540-8261-26bde3f75de0",
   "metadata": {},
   "outputs": [
    {
     "data": {
      "text/plain": [
       "array([[ 9.04667135, 15.07832421, 19.46992503],\n",
       "       [21.83227891, 23.02548285, 24.71804394],\n",
       "       [20.52580452, 22.69807962, 28.01465465]])"
      ]
     },
     "execution_count": 73,
     "metadata": {},
     "output_type": "execute_result"
    }
   ],
   "source": [
    "np.sort(m, axis=1)"
   ]
  },
  {
   "cell_type": "markdown",
   "id": "02678356-0a4f-49d8-b6e1-21d59a84c2dc",
   "metadata": {},
   "source": [
    "**Index ile Elemanlara Erişmek**"
   ]
  },
  {
   "cell_type": "code",
   "execution_count": 75,
   "id": "b862ded5-c7bf-4060-99eb-c11540c41fb1",
   "metadata": {},
   "outputs": [
    {
     "data": {
      "text/plain": [
       "array([2, 9, 4, 7, 1, 2, 2, 8, 9, 5])"
      ]
     },
     "execution_count": 75,
     "metadata": {},
     "output_type": "execute_result"
    }
   ],
   "source": [
    "a=np.random.randint(10,size=10)\n",
    "a"
   ]
  },
  {
   "cell_type": "code",
   "execution_count": 76,
   "id": "3f15566c-8ddc-4733-8ee3-3f16b2977c75",
   "metadata": {},
   "outputs": [
    {
     "data": {
      "text/plain": [
       "2"
      ]
     },
     "execution_count": 76,
     "metadata": {},
     "output_type": "execute_result"
    }
   ],
   "source": [
    "a[0]"
   ]
  },
  {
   "cell_type": "code",
   "execution_count": 77,
   "id": "92b2bf86-3324-4f34-91c7-8ad369a49dda",
   "metadata": {},
   "outputs": [
    {
     "data": {
      "text/plain": [
       "5"
      ]
     },
     "execution_count": 77,
     "metadata": {},
     "output_type": "execute_result"
    }
   ],
   "source": [
    "a[-1]"
   ]
  },
  {
   "cell_type": "code",
   "execution_count": 78,
   "id": "cb41fb02-312f-476c-abe1-ff267d86af6b",
   "metadata": {},
   "outputs": [
    {
     "data": {
      "text/plain": [
       "array([20,  9,  4,  7,  1,  2,  2,  8,  9,  5])"
      ]
     },
     "execution_count": 78,
     "metadata": {},
     "output_type": "execute_result"
    }
   ],
   "source": [
    "a[0] = 20\n",
    "a"
   ]
  },
  {
   "cell_type": "code",
   "execution_count": 136,
   "id": "1c389cba-5117-42be-bd6d-be0cf1b8843c",
   "metadata": {},
   "outputs": [
    {
     "data": {
      "text/plain": [
       "array([[0, 6, 6, 3, 7],\n",
       "       [2, 1, 0, 7, 4],\n",
       "       [7, 4, 3, 8, 0]])"
      ]
     },
     "execution_count": 136,
     "metadata": {},
     "output_type": "execute_result"
    }
   ],
   "source": [
    "b=np.random.randint(10 ,size=(3,5))\n",
    "b"
   ]
  },
  {
   "cell_type": "code",
   "execution_count": 137,
   "id": "bf074e04-4efb-495b-b1bd-32823369eeb7",
   "metadata": {},
   "outputs": [
    {
     "data": {
      "text/plain": [
       "1"
      ]
     },
     "execution_count": 137,
     "metadata": {},
     "output_type": "execute_result"
    }
   ],
   "source": [
    "b[1,1]"
   ]
  },
  {
   "cell_type": "code",
   "execution_count": 80,
   "id": "b2e5cb16-222e-433b-a2ed-a0fb0b98ecff",
   "metadata": {},
   "outputs": [
    {
     "data": {
      "text/plain": [
       "0"
      ]
     },
     "execution_count": 80,
     "metadata": {},
     "output_type": "execute_result"
    }
   ],
   "source": [
    "b[0,0]"
   ]
  },
  {
   "cell_type": "markdown",
   "id": "d25d4a12-2463-484c-b1d4-e9bc94e8b8b5",
   "metadata": {},
   "source": [
    "**Array Alt Kümesine Erişmek**"
   ]
  },
  {
   "cell_type": "code",
   "execution_count": 2,
   "id": "9106ed53-08e5-430a-896c-3a67331e87a6",
   "metadata": {},
   "outputs": [],
   "source": [
    "import numpy as np"
   ]
  },
  {
   "cell_type": "code",
   "execution_count": 3,
   "id": "3084fb91-94c2-4f6b-8b77-7a4cac1ca1b2",
   "metadata": {},
   "outputs": [
    {
     "data": {
      "text/plain": [
       "array([20, 21, 22, 23, 24, 25, 26, 27, 28, 29])"
      ]
     },
     "execution_count": 3,
     "metadata": {},
     "output_type": "execute_result"
    }
   ],
   "source": [
    "a=np.arange(20,30)\n",
    "a"
   ]
  },
  {
   "cell_type": "code",
   "execution_count": 4,
   "id": "491eb3ab-5a78-4f2b-a137-5a5aae986b76",
   "metadata": {},
   "outputs": [
    {
     "data": {
      "text/plain": [
       "array([20, 21, 22])"
      ]
     },
     "execution_count": 4,
     "metadata": {},
     "output_type": "execute_result"
    }
   ],
   "source": [
    "a[0:3]"
   ]
  },
  {
   "cell_type": "code",
   "execution_count": 5,
   "id": "60592a04-79d6-46d2-9781-b68ae3d0f849",
   "metadata": {},
   "outputs": [
    {
     "data": {
      "text/plain": [
       "array([20, 21, 22])"
      ]
     },
     "execution_count": 5,
     "metadata": {},
     "output_type": "execute_result"
    }
   ],
   "source": [
    "a[:3]"
   ]
  },
  {
   "cell_type": "code",
   "execution_count": 6,
   "id": "094493ca-9543-4c59-9af4-b78e8a904217",
   "metadata": {},
   "outputs": [
    {
     "data": {
      "text/plain": [
       "array([23, 24, 25, 26, 27, 28, 29])"
      ]
     },
     "execution_count": 6,
     "metadata": {},
     "output_type": "execute_result"
    }
   ],
   "source": [
    "a[3:]"
   ]
  },
  {
   "cell_type": "code",
   "execution_count": 7,
   "id": "ac71d5a8-5ed5-4834-9051-6c92d82f0485",
   "metadata": {},
   "outputs": [
    {
     "data": {
      "text/plain": [
       "array([21, 23, 25, 27, 29])"
      ]
     },
     "execution_count": 7,
     "metadata": {},
     "output_type": "execute_result"
    }
   ],
   "source": [
    "a[1::2]"
   ]
  },
  {
   "cell_type": "code",
   "execution_count": 8,
   "id": "386f189f-0582-4fcf-9d7f-bc087bf9cf8d",
   "metadata": {},
   "outputs": [
    {
     "data": {
      "text/plain": [
       "array([20, 22, 24, 26, 28])"
      ]
     },
     "execution_count": 8,
     "metadata": {},
     "output_type": "execute_result"
    }
   ],
   "source": [
    "a[0::2]"
   ]
  },
  {
   "cell_type": "code",
   "execution_count": 9,
   "id": "2dac8726-b6b8-4cf2-9800-41243dd034eb",
   "metadata": {},
   "outputs": [],
   "source": [
    "#iki boyutlu slice işlemleri"
   ]
  },
  {
   "cell_type": "code",
   "execution_count": 12,
   "id": "30778447-a7e8-45c4-8bdb-3d6eab8695f6",
   "metadata": {},
   "outputs": [
    {
     "data": {
      "text/plain": [
       "array([[1, 2, 3, 9, 0],\n",
       "       [2, 5, 7, 0, 3],\n",
       "       [6, 4, 9, 6, 8],\n",
       "       [2, 3, 5, 6, 5],\n",
       "       [9, 0, 0, 4, 5]])"
      ]
     },
     "execution_count": 12,
     "metadata": {},
     "output_type": "execute_result"
    }
   ],
   "source": [
    "m=np.random.randint(10, size=(5,5))\n",
    "m"
   ]
  },
  {
   "cell_type": "code",
   "execution_count": 12,
   "id": "66ff0250-09cc-43dd-83cb-5b0a0a6dce94",
   "metadata": {},
   "outputs": [
    {
     "data": {
      "text/plain": [
       "array([[1, 2, 3, 9, 0],\n",
       "       [2, 5, 7, 0, 3],\n",
       "       [6, 4, 9, 6, 8],\n",
       "       [2, 3, 5, 6, 5],\n",
       "       [9, 0, 0, 4, 5]])"
      ]
     },
     "execution_count": 12,
     "metadata": {},
     "output_type": "execute_result"
    }
   ],
   "source": [
    "m=np.random.randint(10, size=(5,5))\n",
    "m"
   ]
  },
  {
   "cell_type": "code",
   "execution_count": 13,
   "id": "502d02aa-48df-42a8-a327-10b50ed12d80",
   "metadata": {},
   "outputs": [
    {
     "data": {
      "text/plain": [
       "array([1, 2, 6, 2, 9])"
      ]
     },
     "execution_count": 13,
     "metadata": {},
     "output_type": "execute_result"
    }
   ],
   "source": [
    "m[:,0]"
   ]
  },
  {
   "cell_type": "code",
   "execution_count": 14,
   "id": "31eb44ae-2841-4c58-abea-66a90e347464",
   "metadata": {},
   "outputs": [
    {
     "data": {
      "text/plain": [
       "array([2, 5, 4, 3, 0])"
      ]
     },
     "execution_count": 14,
     "metadata": {},
     "output_type": "execute_result"
    }
   ],
   "source": [
    "m[:,1]"
   ]
  },
  {
   "cell_type": "code",
   "execution_count": 15,
   "id": "b35f79ca-71ff-4918-9083-9f06ce576c86",
   "metadata": {},
   "outputs": [
    {
     "data": {
      "text/plain": [
       "array([1, 2, 3, 9, 0])"
      ]
     },
     "execution_count": 15,
     "metadata": {},
     "output_type": "execute_result"
    }
   ],
   "source": [
    "m[0,:]"
   ]
  },
  {
   "cell_type": "code",
   "execution_count": 16,
   "id": "2be1eae3-0a46-4cf2-9851-e90c9d291f34",
   "metadata": {},
   "outputs": [
    {
     "data": {
      "text/plain": [
       "array([2, 5, 7, 0, 3])"
      ]
     },
     "execution_count": 16,
     "metadata": {},
     "output_type": "execute_result"
    }
   ],
   "source": [
    "m[1,:]"
   ]
  },
  {
   "cell_type": "code",
   "execution_count": 18,
   "id": "054ca307-9513-4961-a177-4467fc0db36a",
   "metadata": {},
   "outputs": [
    {
     "data": {
      "text/plain": [
       "array([[1, 2, 3],\n",
       "       [2, 5, 7]])"
      ]
     },
     "execution_count": 18,
     "metadata": {},
     "output_type": "execute_result"
    }
   ],
   "source": [
    "m[0:2 , 0:3]"
   ]
  },
  {
   "cell_type": "code",
   "execution_count": 19,
   "id": "dbabfff1-5430-4584-85d0-9962a744bd8d",
   "metadata": {},
   "outputs": [
    {
     "data": {
      "text/plain": [
       "array([[1, 2],\n",
       "       [2, 5],\n",
       "       [6, 4],\n",
       "       [2, 3],\n",
       "       [9, 0]])"
      ]
     },
     "execution_count": 19,
     "metadata": {},
     "output_type": "execute_result"
    }
   ],
   "source": [
    "m[: , 0:2]"
   ]
  },
  {
   "cell_type": "code",
   "execution_count": 20,
   "id": "4ba30b53-e254-4788-8bc8-6ab1add219a7",
   "metadata": {},
   "outputs": [
    {
     "data": {
      "text/plain": [
       "array([[2, 5],\n",
       "       [6, 4]])"
      ]
     },
     "execution_count": 20,
     "metadata": {},
     "output_type": "execute_result"
    }
   ],
   "source": [
    "m[1:3 , 0:2]"
   ]
  },
  {
   "cell_type": "markdown",
   "id": "58728c17-6e00-4770-8af9-f086216dc214",
   "metadata": {},
   "source": [
    "**Alt Küme Üzerinde İşlem Yapmak**"
   ]
  },
  {
   "cell_type": "code",
   "execution_count": 34,
   "id": "5fd91128-6213-46af-9ce1-83dad6416029",
   "metadata": {},
   "outputs": [],
   "source": [
    "import numpy as np"
   ]
  },
  {
   "cell_type": "code",
   "execution_count": 35,
   "id": "c60fb540-224a-4add-8a20-70422dceaf76",
   "metadata": {},
   "outputs": [
    {
     "data": {
      "text/plain": [
       "array([[0, 6, 7, 7, 5],\n",
       "       [6, 1, 3, 2, 3],\n",
       "       [5, 6, 1, 4, 4],\n",
       "       [1, 0, 2, 9, 4],\n",
       "       [3, 2, 9, 2, 0]])"
      ]
     },
     "execution_count": 35,
     "metadata": {},
     "output_type": "execute_result"
    }
   ],
   "source": [
    "a=np.random.randint(10, size=(5,5))\n",
    "a"
   ]
  },
  {
   "cell_type": "code",
   "execution_count": 36,
   "id": "bcf36b30-0a2c-4a87-bcf7-49fc24b04a9e",
   "metadata": {},
   "outputs": [
    {
     "data": {
      "text/plain": [
       "array([[0, 6],\n",
       "       [6, 1],\n",
       "       [5, 6]])"
      ]
     },
     "execution_count": 36,
     "metadata": {},
     "output_type": "execute_result"
    }
   ],
   "source": [
    "alt_a = a[0:3,0:2]\n",
    "alt_a"
   ]
  },
  {
   "cell_type": "code",
   "execution_count": 37,
   "id": "a49562a2-f096-41fd-8bd7-a1bac5d2edf2",
   "metadata": {},
   "outputs": [],
   "source": [
    "alt_a [0,0] = 9999\n",
    "alt_a [1,1] = 888"
   ]
  },
  {
   "cell_type": "code",
   "execution_count": 38,
   "id": "3c188b07-5e1b-407f-92b5-2993367c66e5",
   "metadata": {},
   "outputs": [
    {
     "data": {
      "text/plain": [
       "array([[9999,    6],\n",
       "       [   6,  888],\n",
       "       [   5,    6]])"
      ]
     },
     "execution_count": 38,
     "metadata": {},
     "output_type": "execute_result"
    }
   ],
   "source": [
    "alt_a"
   ]
  },
  {
   "cell_type": "code",
   "execution_count": 39,
   "id": "b9b58f4e-7c31-4d9e-bb2c-50870a98e263",
   "metadata": {},
   "outputs": [
    {
     "data": {
      "text/plain": [
       "array([[9999,    6,    7,    7,    5],\n",
       "       [   6,  888,    3,    2,    3],\n",
       "       [   5,    6,    1,    4,    4],\n",
       "       [   1,    0,    2,    9,    4],\n",
       "       [   3,    2,    9,    2,    0]])"
      ]
     },
     "execution_count": 39,
     "metadata": {},
     "output_type": "execute_result"
    }
   ],
   "source": [
    "a"
   ]
  },
  {
   "cell_type": "code",
   "execution_count": 40,
   "id": "c465df57-40a0-433c-b7a1-98ab2b181252",
   "metadata": {},
   "outputs": [
    {
     "data": {
      "text/plain": [
       "array([[7, 8, 5, 7, 9],\n",
       "       [9, 5, 7, 4, 8],\n",
       "       [0, 9, 4, 1, 1],\n",
       "       [2, 2, 7, 7, 6],\n",
       "       [4, 0, 2, 2, 0]])"
      ]
     },
     "execution_count": 40,
     "metadata": {},
     "output_type": "execute_result"
    }
   ],
   "source": [
    "m=np.random.randint(10, size=(5,5))\n",
    "m"
   ]
  },
  {
   "cell_type": "code",
   "execution_count": 41,
   "id": "2e64227b-3e4e-4b10-ae19-c7682eeb2f74",
   "metadata": {},
   "outputs": [
    {
     "data": {
      "text/plain": [
       "array([[7, 8],\n",
       "       [9, 5],\n",
       "       [0, 9]])"
      ]
     },
     "execution_count": 41,
     "metadata": {},
     "output_type": "execute_result"
    }
   ],
   "source": [
    "alt_b=m[0:3,0:2].copy()\n",
    "alt_b"
   ]
  },
  {
   "cell_type": "code",
   "execution_count": 42,
   "id": "e73aa3c1-4871-457f-a74e-188147445f00",
   "metadata": {},
   "outputs": [
    {
     "data": {
      "text/plain": [
       "array([[999,   8],\n",
       "       [  9,   5],\n",
       "       [  0,   9]])"
      ]
     },
     "execution_count": 42,
     "metadata": {},
     "output_type": "execute_result"
    }
   ],
   "source": [
    "alt_b[0,0] = 999\n",
    "alt_b"
   ]
  },
  {
   "cell_type": "code",
   "execution_count": 43,
   "id": "ddeb9562-1e6e-4190-b99c-c3b0c48ba704",
   "metadata": {},
   "outputs": [
    {
     "data": {
      "text/plain": [
       "array([[7, 8, 5, 7, 9],\n",
       "       [9, 5, 7, 4, 8],\n",
       "       [0, 9, 4, 1, 1],\n",
       "       [2, 2, 7, 7, 6],\n",
       "       [4, 0, 2, 2, 0]])"
      ]
     },
     "execution_count": 43,
     "metadata": {},
     "output_type": "execute_result"
    }
   ],
   "source": [
    "m"
   ]
  },
  {
   "cell_type": "markdown",
   "id": "c29ee650-73fc-45d8-a379-8865bb25839d",
   "metadata": {},
   "source": [
    "**Fancy Index ile Elemanlara Erişmek**"
   ]
  },
  {
   "cell_type": "code",
   "execution_count": 44,
   "id": "dc7d58ca-c6f0-4914-b4f1-9fe06eff3043",
   "metadata": {},
   "outputs": [],
   "source": [
    "import numpy as np"
   ]
  },
  {
   "cell_type": "code",
   "execution_count": 46,
   "id": "d820ecc7-4721-4bc7-a2b2-8b770d076c50",
   "metadata": {},
   "outputs": [
    {
     "data": {
      "text/plain": [
       "array([ 0,  3,  6,  9, 12, 15, 18, 21, 24, 27])"
      ]
     },
     "execution_count": 46,
     "metadata": {},
     "output_type": "execute_result"
    }
   ],
   "source": [
    "a=np.arange(0,30,3)\n",
    "a"
   ]
  },
  {
   "cell_type": "code",
   "execution_count": 48,
   "id": "90400d2b-517e-4049-8d05-97039a15f891",
   "metadata": {},
   "outputs": [
    {
     "data": {
      "text/plain": [
       "3"
      ]
     },
     "execution_count": 48,
     "metadata": {},
     "output_type": "execute_result"
    }
   ],
   "source": [
    "a[1]"
   ]
  },
  {
   "cell_type": "code",
   "execution_count": 49,
   "id": "5f845516-2d0c-40e4-b428-87ddc58c1a80",
   "metadata": {},
   "outputs": [
    {
     "data": {
      "text/plain": [
       "9"
      ]
     },
     "execution_count": 49,
     "metadata": {},
     "output_type": "execute_result"
    }
   ],
   "source": [
    "a[3]"
   ]
  },
  {
   "cell_type": "code",
   "execution_count": 52,
   "id": "3b5ca418-205e-447b-b87f-09805eedc717",
   "metadata": {},
   "outputs": [
    {
     "data": {
      "text/plain": [
       "15"
      ]
     },
     "execution_count": 52,
     "metadata": {},
     "output_type": "execute_result"
    }
   ],
   "source": [
    "a[5]"
   ]
  },
  {
   "cell_type": "code",
   "execution_count": 53,
   "id": "37a60b10-9a12-4b63-ad1b-8d19c2baf1ce",
   "metadata": {},
   "outputs": [
    {
     "data": {
      "text/plain": [
       "[3, 9, 15]"
      ]
     },
     "execution_count": 53,
     "metadata": {},
     "output_type": "execute_result"
    }
   ],
   "source": [
    "[a[1], a[3],a[5]]"
   ]
  },
  {
   "cell_type": "code",
   "execution_count": 55,
   "id": "78e358ed-505b-45ca-a9ce-3315ec5fb959",
   "metadata": {},
   "outputs": [
    {
     "data": {
      "text/plain": [
       "array([ 0,  3,  6,  9, 12, 15, 18, 21, 24, 27])"
      ]
     },
     "execution_count": 55,
     "metadata": {},
     "output_type": "execute_result"
    }
   ],
   "source": [
    "al_getir=[1,3,5]\n",
    "a"
   ]
  },
  {
   "cell_type": "code",
   "execution_count": 56,
   "id": "6359fcf4-61ae-4e3e-8917-69c5149d1c1f",
   "metadata": {},
   "outputs": [
    {
     "data": {
      "text/plain": [
       "array([ 3,  9, 15])"
      ]
     },
     "execution_count": 56,
     "metadata": {},
     "output_type": "execute_result"
    }
   ],
   "source": [
    "a[al_getir]"
   ]
  },
  {
   "cell_type": "code",
   "execution_count": 57,
   "id": "59408349-36fa-445c-8222-9007a703a30c",
   "metadata": {},
   "outputs": [],
   "source": [
    "#iki boyutta fancy işlemleri"
   ]
  },
  {
   "cell_type": "code",
   "execution_count": 59,
   "id": "f9e62837-f1d8-4591-a3be-fd5fd80d25a6",
   "metadata": {},
   "outputs": [
    {
     "data": {
      "text/plain": [
       "array([[0, 1, 2],\n",
       "       [3, 4, 5],\n",
       "       [6, 7, 8]])"
      ]
     },
     "execution_count": 59,
     "metadata": {},
     "output_type": "execute_result"
    }
   ],
   "source": [
    "m=np.arange(9).reshape((3,3))\n",
    "m"
   ]
  },
  {
   "cell_type": "code",
   "execution_count": 61,
   "id": "fae1c49f-2403-4fb9-983b-472a37cfa767",
   "metadata": {},
   "outputs": [
    {
     "data": {
      "text/plain": [
       "array([1, 5])"
      ]
     },
     "execution_count": 61,
     "metadata": {},
     "output_type": "execute_result"
    }
   ],
   "source": [
    "satır=np.array([0,1])\n",
    "sütun=np.array([1,2])\n",
    "m[satır,sütun]"
   ]
  },
  {
   "cell_type": "code",
   "execution_count": 62,
   "id": "781ca62c-c786-4373-b9a0-3b5833d991d6",
   "metadata": {},
   "outputs": [],
   "source": [
    "#basit index ile fancy index"
   ]
  },
  {
   "cell_type": "code",
   "execution_count": 63,
   "id": "84717289-2df9-4f11-92ff-6df80534a6e7",
   "metadata": {},
   "outputs": [
    {
     "data": {
      "text/plain": [
       "array([[0, 1, 2],\n",
       "       [3, 4, 5],\n",
       "       [6, 7, 8]])"
      ]
     },
     "execution_count": 63,
     "metadata": {},
     "output_type": "execute_result"
    }
   ],
   "source": [
    "m"
   ]
  },
  {
   "cell_type": "code",
   "execution_count": 64,
   "id": "7f6e21a3-da4b-455c-9c84-4f41106f44fc",
   "metadata": {},
   "outputs": [
    {
     "data": {
      "text/plain": [
       "array([1, 2])"
      ]
     },
     "execution_count": 64,
     "metadata": {},
     "output_type": "execute_result"
    }
   ],
   "source": [
    "m[0,[1,2]]"
   ]
  },
  {
   "cell_type": "code",
   "execution_count": 65,
   "id": "4d71c285-08c7-4d00-b885-2d2546243009",
   "metadata": {},
   "outputs": [],
   "source": [
    "#slice ile fancy"
   ]
  },
  {
   "cell_type": "code",
   "execution_count": 66,
   "id": "a44a4e9b-ae7a-42e9-b363-b8dc6811563f",
   "metadata": {},
   "outputs": [
    {
     "data": {
      "text/plain": [
       "array([[1, 2],\n",
       "       [4, 5],\n",
       "       [7, 8]])"
      ]
     },
     "execution_count": 66,
     "metadata": {},
     "output_type": "execute_result"
    }
   ],
   "source": [
    "m[0:, [1,2]]"
   ]
  },
  {
   "cell_type": "markdown",
   "id": "7b9ab474-dabf-4898-ab8e-d917ec202b11",
   "metadata": {},
   "source": [
    "**Koşullu Eleman İşlemleri**"
   ]
  },
  {
   "cell_type": "code",
   "execution_count": 67,
   "id": "248ecc35-1053-4c4b-867a-269e2f1da26e",
   "metadata": {},
   "outputs": [],
   "source": [
    "import numpy as np"
   ]
  },
  {
   "cell_type": "code",
   "execution_count": 68,
   "id": "f3d7e685-79f7-4961-9e2d-7b22d5d123c9",
   "metadata": {},
   "outputs": [],
   "source": [
    "a=np.array([1,2,3,4,5])"
   ]
  },
  {
   "cell_type": "code",
   "execution_count": 69,
   "id": "5e3b226b-d5eb-4131-8540-68b2a96e8f78",
   "metadata": {},
   "outputs": [
    {
     "data": {
      "text/plain": [
       "array([ True,  True, False, False, False])"
      ]
     },
     "execution_count": 69,
     "metadata": {},
     "output_type": "execute_result"
    }
   ],
   "source": [
    "a<3"
   ]
  },
  {
   "cell_type": "code",
   "execution_count": 70,
   "id": "4b314f26-4771-4eff-adc2-621e55fed70b",
   "metadata": {},
   "outputs": [
    {
     "data": {
      "text/plain": [
       "array([1, 2])"
      ]
     },
     "execution_count": 70,
     "metadata": {},
     "output_type": "execute_result"
    }
   ],
   "source": [
    "a[a<3]"
   ]
  },
  {
   "cell_type": "code",
   "execution_count": 71,
   "id": "3fb44aad-6290-440b-a32f-6ec1b0dfcaf8",
   "metadata": {},
   "outputs": [
    {
     "data": {
      "text/plain": [
       "array([4, 5])"
      ]
     },
     "execution_count": 71,
     "metadata": {},
     "output_type": "execute_result"
    }
   ],
   "source": [
    "a[a>3]"
   ]
  },
  {
   "cell_type": "code",
   "execution_count": 72,
   "id": "cbcef82c-b9d2-45f4-802d-2ef66ea2a9d6",
   "metadata": {},
   "outputs": [
    {
     "data": {
      "text/plain": [
       "array([3, 4, 5])"
      ]
     },
     "execution_count": 72,
     "metadata": {},
     "output_type": "execute_result"
    }
   ],
   "source": [
    "a[a>=3]"
   ]
  },
  {
   "cell_type": "code",
   "execution_count": 73,
   "id": "f04ee77f-3500-4d51-8191-cc7e96552fad",
   "metadata": {},
   "outputs": [
    {
     "data": {
      "text/plain": [
       "array([1, 2, 3])"
      ]
     },
     "execution_count": 73,
     "metadata": {},
     "output_type": "execute_result"
    }
   ],
   "source": [
    "a[a<=3]"
   ]
  },
  {
   "cell_type": "code",
   "execution_count": 74,
   "id": "b01298bb-140d-45ff-94c0-ba69115bbabf",
   "metadata": {},
   "outputs": [
    {
     "data": {
      "text/plain": [
       "array([1, 2, 4, 5])"
      ]
     },
     "execution_count": 74,
     "metadata": {},
     "output_type": "execute_result"
    }
   ],
   "source": [
    "a[a!=3]"
   ]
  },
  {
   "cell_type": "code",
   "execution_count": 75,
   "id": "8e07fa23-6956-4805-ae38-8666e5f2815b",
   "metadata": {},
   "outputs": [
    {
     "data": {
      "text/plain": [
       "array([3])"
      ]
     },
     "execution_count": 75,
     "metadata": {},
     "output_type": "execute_result"
    }
   ],
   "source": [
    "a[a==3]"
   ]
  },
  {
   "cell_type": "code",
   "execution_count": 76,
   "id": "495fc811-3221-427b-a76e-b194577ac8b8",
   "metadata": {},
   "outputs": [
    {
     "data": {
      "text/plain": [
       "array([ 2,  4,  6,  8, 10])"
      ]
     },
     "execution_count": 76,
     "metadata": {},
     "output_type": "execute_result"
    }
   ],
   "source": [
    "a*2"
   ]
  },
  {
   "cell_type": "code",
   "execution_count": 77,
   "id": "d941cfeb-2d35-4c88-8c09-1b1f7c18a8d2",
   "metadata": {},
   "outputs": [
    {
     "data": {
      "text/plain": [
       "array([0.2, 0.4, 0.6, 0.8, 1. ])"
      ]
     },
     "execution_count": 77,
     "metadata": {},
     "output_type": "execute_result"
    }
   ],
   "source": [
    "a/5"
   ]
  },
  {
   "cell_type": "markdown",
   "id": "8a3fa641-bdb3-4c4f-8a77-0e0e829ed259",
   "metadata": {},
   "source": [
    "**Matematiksel İşlemler**"
   ]
  },
  {
   "cell_type": "markdown",
   "id": "c70c3a9b-6908-42ce-9834-af4bec22f605",
   "metadata": {},
   "source": [
    " numpy_array.mean() : aritmetik ortalamayı bulur.\n",
    "\n",
    " numpy_array.median() : ortayı verir.\n",
    "\n",
    " numpy_array.var() : varyans bulur.\n",
    "\n",
    " numpy_array.std() : standart sapmasını bulur."
   ]
  },
  {
   "cell_type": "code",
   "execution_count": 156,
   "id": "b7077701-bad8-4bd9-a603-088f46273a36",
   "metadata": {},
   "outputs": [],
   "source": [
    "#axis = 1 : satırı alır\n",
    "#axis = 0 : sütunları alır"
   ]
  },
  {
   "cell_type": "code",
   "execution_count": 143,
   "id": "0dc19d4c-d7b6-462c-a6d7-f3210fd7b715",
   "metadata": {},
   "outputs": [],
   "source": [
    "import numpy as np"
   ]
  },
  {
   "cell_type": "code",
   "execution_count": 133,
   "id": "5f30a1d1-fa1d-4147-a1fc-6a73189ddf42",
   "metadata": {},
   "outputs": [
    {
     "data": {
      "text/plain": [
       "array([ 5, 10, 15])"
      ]
     },
     "execution_count": 133,
     "metadata": {},
     "output_type": "execute_result"
    }
   ],
   "source": [
    "import numpy as np\n",
    "5*np.array([1,2,3])"
   ]
  },
  {
   "cell_type": "code",
   "execution_count": 80,
   "id": "e239b386-63c5-423c-9f7a-48adbd8671d3",
   "metadata": {},
   "outputs": [],
   "source": [
    "a=np.array([1,2,3,4,5])"
   ]
  },
  {
   "cell_type": "code",
   "execution_count": 81,
   "id": "d6b94be2-74d6-4f6d-9004-b946072440cf",
   "metadata": {},
   "outputs": [
    {
     "data": {
      "text/plain": [
       "array([0, 1, 2, 3, 4])"
      ]
     },
     "execution_count": 81,
     "metadata": {},
     "output_type": "execute_result"
    }
   ],
   "source": [
    "a-1"
   ]
  },
  {
   "cell_type": "code",
   "execution_count": 82,
   "id": "068c4c5e-fdaa-4314-9ba5-2945966a1a3d",
   "metadata": {},
   "outputs": [],
   "source": [
    "#ufunc"
   ]
  },
  {
   "cell_type": "code",
   "execution_count": 84,
   "id": "95b14a51-320b-4952-b304-db0bd23fde88",
   "metadata": {},
   "outputs": [
    {
     "data": {
      "text/plain": [
       "array([0, 1, 2, 3, 4])"
      ]
     },
     "execution_count": 84,
     "metadata": {},
     "output_type": "execute_result"
    }
   ],
   "source": [
    "np.subtract(a,1)"
   ]
  },
  {
   "cell_type": "code",
   "execution_count": 85,
   "id": "8ebd7aed-c8ce-4c57-9d96-1f4110bd1825",
   "metadata": {},
   "outputs": [
    {
     "data": {
      "text/plain": [
       "array([2, 3, 4, 5, 6])"
      ]
     },
     "execution_count": 85,
     "metadata": {},
     "output_type": "execute_result"
    }
   ],
   "source": [
    "np.add(a,1)"
   ]
  },
  {
   "cell_type": "code",
   "execution_count": 86,
   "id": "0b224d07-761c-4afb-b17b-aca12432bd90",
   "metadata": {},
   "outputs": [
    {
     "data": {
      "text/plain": [
       "array([ 4,  8, 12, 16, 20])"
      ]
     },
     "execution_count": 86,
     "metadata": {},
     "output_type": "execute_result"
    }
   ],
   "source": [
    "np.multiply(a,4)"
   ]
  },
  {
   "cell_type": "code",
   "execution_count": 87,
   "id": "de42c58d-7ba8-4394-a007-b5bf528e26b7",
   "metadata": {},
   "outputs": [
    {
     "data": {
      "text/plain": [
       "array([0.33333333, 0.66666667, 1.        , 1.33333333, 1.66666667])"
      ]
     },
     "execution_count": 87,
     "metadata": {},
     "output_type": "execute_result"
    }
   ],
   "source": [
    "np.divide(a,3)"
   ]
  },
  {
   "cell_type": "code",
   "execution_count": 88,
   "id": "61ad1e46-4719-443d-81e9-8df4c12af886",
   "metadata": {},
   "outputs": [
    {
     "data": {
      "text/plain": [
       "array([ 1,  4,  9, 16, 25], dtype=int32)"
      ]
     },
     "execution_count": 88,
     "metadata": {},
     "output_type": "execute_result"
    }
   ],
   "source": [
    "a**2"
   ]
  },
  {
   "cell_type": "code",
   "execution_count": 89,
   "id": "c933956b-e612-4306-a4a8-fae3192d09bd",
   "metadata": {},
   "outputs": [
    {
     "data": {
      "text/plain": [
       "array([  1,   8,  27,  64, 125], dtype=int32)"
      ]
     },
     "execution_count": 89,
     "metadata": {},
     "output_type": "execute_result"
    }
   ],
   "source": [
    "a**3"
   ]
  },
  {
   "cell_type": "code",
   "execution_count": 90,
   "id": "b4771701-0612-4a5c-a818-ad574bffaf93",
   "metadata": {},
   "outputs": [
    {
     "data": {
      "text/plain": [
       "array([  1,   8,  27,  64, 125], dtype=int32)"
      ]
     },
     "execution_count": 90,
     "metadata": {},
     "output_type": "execute_result"
    }
   ],
   "source": [
    "np.power(a,3)"
   ]
  },
  {
   "cell_type": "code",
   "execution_count": 91,
   "id": "f93535b0-d14b-48b0-8141-a1cd24f539d3",
   "metadata": {},
   "outputs": [
    {
     "data": {
      "text/plain": [
       "array([1, 0, 1, 0, 1], dtype=int32)"
      ]
     },
     "execution_count": 91,
     "metadata": {},
     "output_type": "execute_result"
    }
   ],
   "source": [
    "a % 2"
   ]
  },
  {
   "cell_type": "code",
   "execution_count": 97,
   "id": "c7227321-b47a-4652-9508-8dbffeb06cf6",
   "metadata": {},
   "outputs": [
    {
     "data": {
      "text/plain": [
       "array([1, 0, 1, 0, 1], dtype=int32)"
      ]
     },
     "execution_count": 97,
     "metadata": {},
     "output_type": "execute_result"
    }
   ],
   "source": [
    "np.mod(a,2)"
   ]
  },
  {
   "cell_type": "code",
   "execution_count": 94,
   "id": "43c4f9c6-f01f-46e4-9946-34d01e52d47b",
   "metadata": {},
   "outputs": [
    {
     "data": {
      "text/plain": [
       "array([3])"
      ]
     },
     "execution_count": 94,
     "metadata": {},
     "output_type": "execute_result"
    }
   ],
   "source": [
    "np.absolute(np.array([-3]))"
   ]
  },
  {
   "cell_type": "code",
   "execution_count": 95,
   "id": "9ef4d037-bb15-49f8-bee5-d8d5ed76a510",
   "metadata": {},
   "outputs": [
    {
     "data": {
      "text/plain": [
       "0.9589157234143065"
      ]
     },
     "execution_count": 95,
     "metadata": {},
     "output_type": "execute_result"
    }
   ],
   "source": [
    "np.sin(360)"
   ]
  },
  {
   "cell_type": "code",
   "execution_count": 96,
   "id": "27cc42af-b368-4e8e-99fa-6e0c45193205",
   "metadata": {},
   "outputs": [
    {
     "data": {
      "text/plain": [
       "-0.5984600690578581"
      ]
     },
     "execution_count": 96,
     "metadata": {},
     "output_type": "execute_result"
    }
   ],
   "source": [
    "np.cos(180)"
   ]
  },
  {
   "cell_type": "code",
   "execution_count": 99,
   "id": "e01eddc5-2978-4acd-a484-36c70cd026b5",
   "metadata": {},
   "outputs": [],
   "source": [
    "v=np.array([1,2,3])"
   ]
  },
  {
   "cell_type": "code",
   "execution_count": 100,
   "id": "ed5a6f47-e172-45eb-9df0-6487a48cbcc0",
   "metadata": {},
   "outputs": [
    {
     "data": {
      "text/plain": [
       "array([0.        , 0.69314718, 1.09861229])"
      ]
     },
     "execution_count": 100,
     "metadata": {},
     "output_type": "execute_result"
    }
   ],
   "source": [
    "np.log(v)"
   ]
  },
  {
   "cell_type": "code",
   "execution_count": 101,
   "id": "013f5dff-9e39-4b33-99e1-a7ed10adb119",
   "metadata": {},
   "outputs": [
    {
     "data": {
      "text/plain": [
       "array([0.       , 1.       , 1.5849625])"
      ]
     },
     "execution_count": 101,
     "metadata": {},
     "output_type": "execute_result"
    }
   ],
   "source": [
    "np.log2(v)"
   ]
  },
  {
   "cell_type": "code",
   "execution_count": 102,
   "id": "187bcab9-f343-4d79-b4f1-bd429696b24c",
   "metadata": {},
   "outputs": [
    {
     "data": {
      "text/plain": [
       "array([0.        , 0.30103   , 0.47712125])"
      ]
     },
     "execution_count": 102,
     "metadata": {},
     "output_type": "execute_result"
    }
   ],
   "source": [
    "np.log10(v)"
   ]
  },
  {
   "cell_type": "markdown",
   "id": "ca747277-490d-4114-9df3-08eb2fdc15c3",
   "metadata": {},
   "source": [
    "**İstatistiksel Hesaplamalar**"
   ]
  },
  {
   "cell_type": "code",
   "execution_count": 103,
   "id": "3283f65d-78fc-4624-946d-aa11a9c53144",
   "metadata": {},
   "outputs": [
    {
     "data": {
      "text/plain": [
       "array([1, 2, 3])"
      ]
     },
     "execution_count": 103,
     "metadata": {},
     "output_type": "execute_result"
    }
   ],
   "source": [
    "v"
   ]
  },
  {
   "cell_type": "code",
   "execution_count": 104,
   "id": "8b3fdc59-076c-41dd-be12-86f434276725",
   "metadata": {},
   "outputs": [
    {
     "data": {
      "text/plain": [
       "2.0"
      ]
     },
     "execution_count": 104,
     "metadata": {},
     "output_type": "execute_result"
    }
   ],
   "source": [
    "np.mean(v)"
   ]
  },
  {
   "cell_type": "code",
   "execution_count": 106,
   "id": "45bfaa81-5924-43de-9518-e7b00b015da7",
   "metadata": {},
   "outputs": [
    {
     "data": {
      "text/plain": [
       "6"
      ]
     },
     "execution_count": 106,
     "metadata": {},
     "output_type": "execute_result"
    }
   ],
   "source": [
    "v.sum()"
   ]
  },
  {
   "cell_type": "code",
   "execution_count": 107,
   "id": "6fada95c-1c7b-4ffa-8d2c-d9ec18a1403d",
   "metadata": {},
   "outputs": [
    {
     "data": {
      "text/plain": [
       "1"
      ]
     },
     "execution_count": 107,
     "metadata": {},
     "output_type": "execute_result"
    }
   ],
   "source": [
    "v.min()"
   ]
  },
  {
   "cell_type": "code",
   "execution_count": 108,
   "id": "af2b416b-a20f-434d-bd8e-9b138976b237",
   "metadata": {},
   "outputs": [
    {
     "data": {
      "text/plain": [
       "3"
      ]
     },
     "execution_count": 108,
     "metadata": {},
     "output_type": "execute_result"
    }
   ],
   "source": [
    "v.max()"
   ]
  },
  {
   "cell_type": "code",
   "execution_count": 109,
   "id": "1f0ff8ef-9c68-4e33-80a3-09f8a3a9cedf",
   "metadata": {},
   "outputs": [
    {
     "data": {
      "text/plain": [
       "0.6666666666666666"
      ]
     },
     "execution_count": 109,
     "metadata": {},
     "output_type": "execute_result"
    }
   ],
   "source": [
    "np.var(v)"
   ]
  },
  {
   "cell_type": "code",
   "execution_count": 110,
   "id": "e4b6caa3-d953-4ae6-b43e-f3a783c3bca4",
   "metadata": {},
   "outputs": [
    {
     "data": {
      "text/plain": [
       "0.816496580927726"
      ]
     },
     "execution_count": 110,
     "metadata": {},
     "output_type": "execute_result"
    }
   ],
   "source": [
    "np.std(v)"
   ]
  },
  {
   "cell_type": "markdown",
   "id": "44b6f0f0-a47c-43a4-a5d1-17ae7438031c",
   "metadata": {},
   "source": [
    "**NumPy ile İki Bilinmeyenli Denklem Çözümü**"
   ]
  },
  {
   "cell_type": "code",
   "execution_count": 113,
   "id": "98a6f2f4-99f1-422e-9d37-44d703f35011",
   "metadata": {},
   "outputs": [],
   "source": [
    "import numpy as np"
   ]
  },
  {
   "cell_type": "code",
   "execution_count": 121,
   "id": "b39fedf2-cb7a-4955-9e2a-1d6c6751f41c",
   "metadata": {},
   "outputs": [],
   "source": [
    "#  5 * x0 + x1 =12\n",
    "#  x0 +3 * x1 =10"
   ]
  },
  {
   "cell_type": "code",
   "execution_count": 122,
   "id": "85037e9b-9eef-4f36-9525-25ed1f9ca85f",
   "metadata": {},
   "outputs": [
    {
     "data": {
      "text/plain": [
       "array([[5, 1],\n",
       "       [1, 3]])"
      ]
     },
     "execution_count": 122,
     "metadata": {},
     "output_type": "execute_result"
    }
   ],
   "source": [
    "a=np.array([[5,1] ,[1,3]])\n",
    "b=np.array([12,10])\n",
    "a"
   ]
  },
  {
   "cell_type": "code",
   "execution_count": 123,
   "id": "5e1d7026-1759-4435-b8ea-f4633626ae45",
   "metadata": {},
   "outputs": [
    {
     "data": {
      "text/plain": [
       "array([12, 10])"
      ]
     },
     "execution_count": 123,
     "metadata": {},
     "output_type": "execute_result"
    }
   ],
   "source": [
    "b"
   ]
  },
  {
   "cell_type": "code",
   "execution_count": 124,
   "id": "30215d49-1840-4e68-8351-d50e3359b0c1",
   "metadata": {},
   "outputs": [
    {
     "data": {
      "text/plain": [
       "array([1.85714286, 2.71428571])"
      ]
     },
     "execution_count": 124,
     "metadata": {},
     "output_type": "execute_result"
    }
   ],
   "source": [
    "x=np.linalg.solve(a,b)\n",
    "x"
   ]
  },
  {
   "cell_type": "markdown",
   "id": "b8bf33d9-7f17-4ac8-8067-c4bb3953b81b",
   "metadata": {},
   "source": [
    "**Transpoz Bulma**"
   ]
  },
  {
   "cell_type": "code",
   "execution_count": 152,
   "id": "050f0309-078e-4106-b7b7-2c51ac448824",
   "metadata": {},
   "outputs": [],
   "source": [
    "#Matrislerin satırını sütun, sütunlarını satır yapmaya transpoz alma işlemi denir.Bir array’in transpozu  .T ile bulunur."
   ]
  },
  {
   "cell_type": "code",
   "execution_count": 146,
   "id": "66ec9bd4-8444-41a7-af81-616347e96c6f",
   "metadata": {},
   "outputs": [],
   "source": [
    "list_array = np.array([[1,2],\n",
    "                       [4,5],\n",
    "                       [7,8]])"
   ]
  },
  {
   "cell_type": "code",
   "execution_count": 149,
   "id": "cbaf0b67-944a-4323-8e76-ba3b46a1a190",
   "metadata": {},
   "outputs": [
    {
     "name": "stdout",
     "output_type": "stream",
     "text": [
      "[[1 4 7]\n",
      " [2 5 8]]\n"
     ]
    }
   ],
   "source": [
    "print(list_array.T)"
   ]
  },
  {
   "cell_type": "markdown",
   "id": "1e568f3e-f00e-4358-8917-e0aa40548912",
   "metadata": {},
   "source": [
    "**Matris Çarpımı**"
   ]
  },
  {
   "cell_type": "code",
   "execution_count": 150,
   "id": "fa48016f-70dc-4888-9c7f-cab396e1a141",
   "metadata": {},
   "outputs": [],
   "source": [
    "a1 = np.array([[1,2],\n",
    "               [2,0], \n",
    "               [3,1]])\n",
    "a2 = np.array ([[4,3],\n",
    "                [1,2]])"
   ]
  },
  {
   "cell_type": "code",
   "execution_count": 151,
   "id": "0613098e-ec7f-4e30-aba4-5ede14c48771",
   "metadata": {},
   "outputs": [
    {
     "name": "stdout",
     "output_type": "stream",
     "text": [
      "[[ 6  7]\n",
      " [ 8  6]\n",
      " [13 11]]\n"
     ]
    }
   ],
   "source": [
    "print(np.dot(a1,a2))"
   ]
  },
  {
   "cell_type": "markdown",
   "id": "61f39bc0-d6fd-4ef8-b574-b07e55229b74",
   "metadata": {},
   "source": [
    "**Matris Birleştirme**"
   ]
  },
  {
   "cell_type": "code",
   "execution_count": 153,
   "id": "18032933-f62d-4d7a-b48e-97b55aa8ae2e",
   "metadata": {},
   "outputs": [],
   "source": [
    "a3 = np.array([[1,2],\n",
    "               [2,0],\n",
    "               [3,1]])"
   ]
  },
  {
   "cell_type": "code",
   "execution_count": 154,
   "id": "32ff8cf9-bf69-41ee-b9ec-2d59b413964e",
   "metadata": {},
   "outputs": [
    {
     "name": "stdout",
     "output_type": "stream",
     "text": [
      "[[1 2]\n",
      " [2 0]\n",
      " [3 1]\n",
      " [1 2]\n",
      " [2 0]\n",
      " [3 1]]\n"
     ]
    }
   ],
   "source": [
    "print(np.concatenate([a3, a3], axis =0)) \n",
    "#Satıra göre birleştirmek istersek, satır = 0"
   ]
  },
  {
   "cell_type": "code",
   "execution_count": 155,
   "id": "540c73de-677c-43e2-bd94-5d095e198b4c",
   "metadata": {},
   "outputs": [
    {
     "name": "stdout",
     "output_type": "stream",
     "text": [
      "[[1 2 1 2]\n",
      " [2 0 2 0]\n",
      " [3 1 3 1]]\n"
     ]
    }
   ],
   "source": [
    "print(np.concatenate([a3, a3], axis =1)) \n",
    "#Sütuna göre  birleştirme yapmak istersek, sütun = 1"
   ]
  },
  {
   "cell_type": "code",
   "execution_count": null,
   "id": "9a49854d-6817-427c-9548-f39a0a8446e9",
   "metadata": {},
   "outputs": [],
   "source": []
  }
 ],
 "metadata": {
  "kernelspec": {
   "display_name": "Python 3 (ipykernel)",
   "language": "python",
   "name": "python3"
  },
  "language_info": {
   "codemirror_mode": {
    "name": "ipython",
    "version": 3
   },
   "file_extension": ".py",
   "mimetype": "text/x-python",
   "name": "python",
   "nbconvert_exporter": "python",
   "pygments_lexer": "ipython3",
   "version": "3.9.13"
  }
 },
 "nbformat": 4,
 "nbformat_minor": 5
}
